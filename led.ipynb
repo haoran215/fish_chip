{
 "cells": [
  {
   "cell_type": "code",
   "execution_count": 1,
   "metadata": {},
   "outputs": [
    {
     "name": "stdout",
     "output_type": "stream",
     "text": [
      "env: BLINKA_FT232H=1\n"
     ]
    }
   ],
   "source": [
    "%env BLINKA_FT232H=1"
   ]
  },
  {
   "cell_type": "code",
   "execution_count": 2,
   "metadata": {},
   "outputs": [
    {
     "data": {
      "text/plain": [
       "'1'"
      ]
     },
     "execution_count": 2,
     "metadata": {},
     "output_type": "execute_result"
    }
   ],
   "source": [
    "import os\n",
    "import time\n",
    "os.environ[\"BLINKA_FT232H\"]"
   ]
  },
  {
   "cell_type": "code",
   "execution_count": 3,
   "metadata": {},
   "outputs": [
    {
     "name": "stdout",
     "output_type": "stream",
     "text": [
      "Available interfaces:\n",
      "  ftdi://ftdi:232h:1/1  (￿￿￿￿￿￿)\n",
      "\n"
     ]
    },
    {
     "ename": "SystemExit",
     "evalue": "Please specify the USB device",
     "output_type": "error",
     "traceback": [
      "An exception has occurred, use %tb to see the full traceback.\n",
      "\u001b[31mSystemExit\u001b[39m\u001b[31m:\u001b[39m Please specify the USB device\n"
     ]
    },
    {
     "name": "stderr",
     "output_type": "stream",
     "text": [
      "/home/haoran/anaconda3/envs/flaresim/lib/python3.11/site-packages/IPython/core/interactiveshell.py:3675: UserWarning: To exit: use 'exit', 'quit', or Ctrl-D.\n",
      "  warn(\"To exit: use 'exit', 'quit', or Ctrl-D.\", stacklevel=1)\n"
     ]
    }
   ],
   "source": [
    "from pyftdi.ftdi import Ftdi\n",
    "Ftdi().open_from_url('ftdi:///?')"
   ]
  },
  {
   "cell_type": "code",
   "execution_count": 4,
   "metadata": {},
   "outputs": [],
   "source": [
    "import board\n",
    "import digitalio\n"
   ]
  },
  {
   "cell_type": "code",
   "execution_count": null,
   "metadata": {},
   "outputs": [
    {
     "name": "stdout",
     "output_type": "stream",
     "text": [
      "LED AA ON, LED BB OFF\n",
      "LED AA OFF, LED BB ON\n",
      "LED AA ON, LED BB OFF\n",
      "LED AA OFF, LED BB ON\n",
      "LED AA ON, LED BB OFF\n",
      "LED AA OFF, LED BB ON\n"
     ]
    },
    {
     "ename": "KeyboardInterrupt",
     "evalue": "",
     "output_type": "error",
     "traceback": [
      "\u001b[31m---------------------------------------------------------------------------\u001b[39m",
      "\u001b[31mKeyboardInterrupt\u001b[39m                         Traceback (most recent call last)",
      "\u001b[36mCell\u001b[39m\u001b[36m \u001b[39m\u001b[32mIn[7]\u001b[39m\u001b[32m, line 22\u001b[39m\n\u001b[32m     20\u001b[39m led_bb.value = \u001b[38;5;28;01mTrue\u001b[39;00m\n\u001b[32m     21\u001b[39m \u001b[38;5;28mprint\u001b[39m(\u001b[33m\"\u001b[39m\u001b[33mLED AA OFF, LED BB ON\u001b[39m\u001b[33m\"\u001b[39m)\n\u001b[32m---> \u001b[39m\u001b[32m22\u001b[39m \u001b[43mtime\u001b[49m\u001b[43m.\u001b[49m\u001b[43msleep\u001b[49m\u001b[43m(\u001b[49m\u001b[32;43m0.5\u001b[39;49m\u001b[43m)\u001b[49m\n\u001b[32m     23\u001b[39m led_cc.value = \u001b[38;5;28;01mTrue\u001b[39;00m\n\u001b[32m     24\u001b[39m led_dd.value = \u001b[38;5;28;01mFalse\u001b[39;00m\n",
      "\u001b[31mKeyboardInterrupt\u001b[39m: "
     ]
    }
   ],
   "source": [
    "\n",
    "# led_aa.value = True\n",
    "led_bb = digitalio.DigitalInOut(board.D7)\n",
    "led_bb.direction = digitalio.Direction.OUTPUT\n",
    "# led_bb.value = True\n",
    "\n",
    "led_cc = digitalio.DigitalInOut(board.C1)\n",
    "led_cc.direction = digitalio.Direction.OUTPUT\n",
    "\n",
    "led_dd = digitalio.DigitalInOut(board.C2)\n",
    "led_dd.direction = digitalio.Direction.OUTPUT\n",
    "\n",
    "while True:\n",
    "    led_aa.value = True\n",
    "    led_bb.value = False\n",
    "    print(\"LED AA ON, LED BB OFF\")\n",
    "    time.sleep(0.01)\n",
    "    led_aa.value = False\n",
    "    led_bb.value = True\n",
    "    print(\"LED AA OFF, LED BB ON\")\n",
    "    time.sleep(0.5)\n",
    "    led_cc.value = True\n",
    "    led_dd.value = False\n",
    "    # print(\"LED CC ON, LED DD OFF\")\n",
    "    # time.sleep(1)\n",
    "    # led_cc.value = False\n",
    "    # led_dd.value = True\n",
    "    # print(\"LED CC OFF, LED DD ON\")\n"
   ]
  },
  {
   "cell_type": "code",
   "execution_count": null,
   "metadata": {},
   "outputs": [],
   "source": [
    "led_aa.value = False\n",
    "led_bb.value = False"
   ]
  }
 ],
 "metadata": {
  "kernelspec": {
   "display_name": "flaresim",
   "language": "python",
   "name": "python3"
  },
  "language_info": {
   "codemirror_mode": {
    "name": "ipython",
    "version": 3
   },
   "file_extension": ".py",
   "mimetype": "text/x-python",
   "name": "python",
   "nbconvert_exporter": "python",
   "pygments_lexer": "ipython3",
   "version": "3.11.11"
  }
 },
 "nbformat": 4,
 "nbformat_minor": 2
}
