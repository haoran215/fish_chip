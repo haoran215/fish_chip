{
 "cells": [
  {
   "cell_type": "code",
   "execution_count": 8,
   "metadata": {},
   "outputs": [
    {
     "name": "stdout",
     "output_type": "stream",
     "text": [
      "env: BLINKA_FT232H=1\n"
     ]
    }
   ],
   "source": [
    "%env BLINKA_FT232H=1"
   ]
  },
  {
   "cell_type": "code",
   "execution_count": 9,
   "metadata": {},
   "outputs": [
    {
     "data": {
      "text/plain": [
       "'1'"
      ]
     },
     "execution_count": 9,
     "metadata": {},
     "output_type": "execute_result"
    }
   ],
   "source": [
    "import os\n",
    "import time\n",
    "os.environ[\"BLINKA_FT232H\"]"
   ]
  },
  {
   "cell_type": "code",
   "execution_count": 10,
   "metadata": {},
   "outputs": [
    {
     "name": "stdout",
     "output_type": "stream",
     "text": [
      "Available interfaces:\n",
      "  ftdi://ftdi:232h:01/1  (USB <-> Serial Converter)\n",
      "\n"
     ]
    },
    {
     "ename": "SystemExit",
     "evalue": "Please specify the USB device",
     "output_type": "error",
     "traceback": [
      "An exception has occurred, use %tb to see the full traceback.\n",
      "\u001b[31mSystemExit\u001b[39m\u001b[31m:\u001b[39m Please specify the USB device\n"
     ]
    },
    {
     "name": "stderr",
     "output_type": "stream",
     "text": [
      "/home/haoran/anaconda3/envs/flaresim/lib/python3.11/site-packages/IPython/core/interactiveshell.py:3675: UserWarning: To exit: use 'exit', 'quit', or Ctrl-D.\n",
      "  warn(\"To exit: use 'exit', 'quit', or Ctrl-D.\", stacklevel=1)\n"
     ]
    }
   ],
   "source": [
    "from pyftdi.ftdi import Ftdi\n",
    "# print(\"Detected devices:\", Ftdi.list_devices())\n",
    "Ftdi().open_from_url('ftdi:///?')\n"
   ]
  },
  {
   "cell_type": "code",
   "execution_count": 11,
   "metadata": {},
   "outputs": [
    {
     "name": "stdout",
     "output_type": "stream",
     "text": [
      "Detected FTDI devices:\n",
      "[(UsbDeviceDescriptor(vid=1027, pid=24596, bus=5, address=39, sn='01', index=None, description='USB <-> Serial Converter'), 1)]\n"
     ]
    }
   ],
   "source": [
    "from pyftdi.i2c import I2cController\n",
    "from pyftdi.ftdi import Ftdi\n",
    "\n",
    "# Print device descriptors to verify uniqueness\n",
    "print(\"Detected FTDI devices:\")\n",
    "print(Ftdi.list_devices())\n",
    "\n",
    "# Create an I2C controller instance for each FT232H device\n",
    "i2c1 = I2cController()\n",
    "\n",
    "#   First device (serial '01'):\n",
    "i2c1.configure('ftdi://ftdi:232h:01/1')\n",
    "\n",
    "# Get the I2C port for sensor communication (assuming all sensors are at 0x76)\n",
    "port1 = i2c1.get_port(0x76)\n",
    "\n",
    "\n"
   ]
  },
  {
   "cell_type": "code",
   "execution_count": 12,
   "metadata": {},
   "outputs": [],
   "source": [
    "import board\n",
    "import digitalio\n",
    "import keyboard\n",
    "import ms5837\n",
    "import busio\n",
    "import matplotlib.pyplot as plt\n",
    "from matplotlib.animation import FuncAnimation\n",
    " "
   ]
  },
  {
   "cell_type": "code",
   "execution_count": 13,
   "metadata": {},
   "outputs": [
    {
     "name": "stdout",
     "output_type": "stream",
     "text": [
      "LED ON\n",
      "LED OFF\n",
      "LED ON\n",
      "LED OFF\n"
     ]
    }
   ],
   "source": [
    "led_aa = digitalio.DigitalInOut(board.D7)\n",
    "led_aa.direction = digitalio.Direction.OUTPUT\n",
    "i= 0\n",
    "while i < 2:\n",
    "    i += 1\n",
    "    led_aa.value = True\n",
    "    print(\"LED ON\")\n",
    "    time.sleep(0.5)\n",
    "    led_aa.value = False\n",
    "    print(\"LED OFF\")\n",
    "    time.sleep(0.5)"
   ]
  },
  {
   "cell_type": "code",
   "execution_count": 8,
   "metadata": {},
   "outputs": [
    {
     "name": "stdout",
     "output_type": "stream",
     "text": [
      "LED OFF\n"
     ]
    }
   ],
   "source": [
    "led_aa.value = False\n",
    "print(\"LED OFF\")"
   ]
  },
  {
   "cell_type": "code",
   "execution_count": 7,
   "metadata": {},
   "outputs": [
    {
     "name": "stdout",
     "output_type": "stream",
     "text": [
      "PROM coefficient: 16385\n"
     ]
    }
   ],
   "source": [
    "# Initialize the I²C bus via FT232H \n",
    "# (make sure BLINKA_FT232H=1 in your environment)\n",
    "i2c = busio.I2C(board.SCL, board.SDA)\n",
    "while not i2c.try_lock():\n",
    "    pass\n",
    "\n",
    "sensor_address = 0x76  #check sensor’s address\n",
    "\n",
    "try:\n",
    "    # Send reset command 0x1E\n",
    "    i2c.writeto(sensor_address, bytes([0x1E]))\n",
    "    time.sleep(0.05)  # wait 50ms for reset\n",
    "    \n",
    "    # Read first PROM register (0xA0, returns 2 bytes), check sensor’s datasheet\n",
    "    i2c.writeto(sensor_address, bytes([0xA0]))\n",
    "    buffer = bytearray(2)\n",
    "    i2c.readfrom_into(sensor_address, buffer)\n",
    "    coeff = (buffer[0] << 8) | buffer[1]\n",
    "    print(f\"PROM coefficient: {coeff}\")\n",
    "    \n",
    "except Exception as e:\n",
    "    print(\"Error communicating with sensor:\", e)\n",
    "finally:\n",
    "    i2c.unlock()"
   ]
  },
  {
   "cell_type": "code",
   "execution_count": 8,
   "metadata": {},
   "outputs": [
    {
     "name": "stdout",
     "output_type": "stream",
     "text": [
      "Starting pressure conversion...\n",
      "Raw pressure (D1): 6408037\n",
      "Starting temperature conversion...\n",
      "Raw temperature (D2): 8576849\n",
      "Calculated temperature: 20.34 °C\n",
      "Calculated pressure: 487.93 mbar\n"
     ]
    }
   ],
   "source": [
    "#!/usr/bin/env python3\n",
    "import time\n",
    "import board\n",
    "import busio\n",
    "\n",
    "# Initialize the I²C bus (FT232H via BLINKA)\n",
    "i2c = busio.I2C(board.SCL, board.SDA)\n",
    "while not i2c.try_lock():\n",
    "    pass\n",
    "\n",
    "sensor_address = 0x76  # Sensor I²C address\n",
    "\n",
    "# Calibration coefficients read from the sensor’s PROM.\n",
    "# (Typical example values as provided in the datasheet)\n",
    "C1 = 40127  \n",
    "C2 = 36924\n",
    "C3 = 23317\n",
    "C4 = 23282\n",
    "C5 = 33464\n",
    "C6 = 28312\n",
    "\n",
    "# ------------------- PRESSURE CONVERSION (D1) -------------------\n",
    "print(\"Starting pressure conversion...\")\n",
    "# Send the conversion command for pressure (D1) with OSR=4096.\n",
    "i2c.writeto(sensor_address, bytes([0x48]))\n",
    "time.sleep(0.02)  # Wait ~20 ms for conversion\n",
    "\n",
    "# Send ADC read command to obtain a 24-bit result.\n",
    "i2c.writeto(sensor_address, bytes([0x00]))\n",
    "raw_pressure_bytes = bytearray(3)\n",
    "i2c.readfrom_into(sensor_address, raw_pressure_bytes)\n",
    "D1 = (raw_pressure_bytes[0] << 16) | (raw_pressure_bytes[1] << 8) | raw_pressure_bytes[2]\n",
    "print(\"Raw pressure (D1):\", D1)\n",
    "\n",
    "# ------------------- TEMPERATURE CONVERSION (D2) -------------------\n",
    "print(\"Starting temperature conversion...\")\n",
    "# Send the conversion command for temperature (D2) with OSR=4096.\n",
    "i2c.writeto(sensor_address, bytes([0x58]))\n",
    "time.sleep(0.02)  # Wait ~20 ms for conversion\n",
    "\n",
    "# Send ADC read command to obtain a 24-bit result.\n",
    "i2c.writeto(sensor_address, bytes([0x00]))\n",
    "raw_temp_bytes = bytearray(3)\n",
    "i2c.readfrom_into(sensor_address, raw_temp_bytes)\n",
    "D2 = (raw_temp_bytes[0] << 16) | (raw_temp_bytes[1] << 8) | raw_temp_bytes[2]\n",
    "print(\"Raw temperature (D2):\", D2)\n",
    "\n",
    "# ------------------- FIRST ORDER CALCULATION -------------------\n",
    "# Calculate temperature difference (dT)\n",
    "dT = D2 - (C5 * 256)\n",
    "# Calculate initial temperature (in hundredths of °C)\n",
    "TEMP = 2000 + (dT * C6) / 8388608.0   # 2^23 = 8388608\n",
    "# Calculate offset and sensitivity\n",
    "OFF = C2 * 65536 + (C4 * dT) / 128.0    # 2^16 = 65536, 2^7 = 128\n",
    "SENS = C1 * 32768 + (C3 * dT) / 256.0   # 2^15 = 32768, 2^8 = 256\n",
    "\n",
    "# ------------------- SECOND ORDER COMPENSATION -------------------\n",
    "# Apply second order corrections when temperature is below 20°C.\n",
    "if TEMP < 2000:  \n",
    "    T2 = (dT * dT) / 2147483648.0  # 2^31 = 2147483648\n",
    "    OFF2 = 5 * ((TEMP - 2000) ** 2) / 2.0\n",
    "    SENS2 = 5 * ((TEMP - 2000) ** 2) / 4.0\n",
    "    # Further compensation for very low temperatures (< -15°C)\n",
    "    if TEMP < -1500:\n",
    "        OFF2 += 7 * ((TEMP + 1500) ** 2)\n",
    "        SENS2 += (11 * ((TEMP + 1500) ** 2)) / 2.0\n",
    "else:\n",
    "    T2 = 0\n",
    "    OFF2 = 0\n",
    "    SENS2 = 0\n",
    "\n",
    "# Apply the compensation corrections\n",
    "TEMP = TEMP - T2\n",
    "OFF = OFF - OFF2\n",
    "SENS = SENS - SENS2\n",
    "\n",
    "# Calculate pressure (in hundredths of mbar)\n",
    "pressure = ((D1 * SENS) / 2097152.0 - OFF) / 32768.0   # 2^21 = 2097152, 2^15 = 32768\n",
    "\n",
    "# ------------------- OUTPUT RESULTS -------------------\n",
    "# Divide by 100 to get °C and mbar respectively.\n",
    "print(\"Calculated temperature: {:.2f} °C\".format(TEMP / 100.0))\n",
    "print(\"Calculated pressure: {:.2f} mbar\".format(pressure / 100.0))\n",
    "\n",
    "i2c.unlock()\n"
   ]
  },
  {
   "cell_type": "code",
   "execution_count": 11,
   "metadata": {},
   "outputs": [
    {
     "name": "stdout",
     "output_type": "stream",
     "text": [
      "Starting pressure conversion...\n",
      "Raw pressure (D1): 4322211\n",
      "Starting temperature conversion...\n",
      "Raw temperature (D2): 7444553\n",
      "Calculated temperature: -17.88 °C\n",
      "Calculated pressure: 86.54 mbar\n"
     ]
    }
   ],
   "source": [
    "# This is for 02BA\n",
    "# Initialize the I²C bus (FT232H via BLINKA)\n",
    "i2c = busio.I2C(board.SCL, board.SDA)\n",
    "while not i2c.try_lock():\n",
    "    pass\n",
    "\n",
    "sensor_address = 0x76  # Update if your sensor uses a different address\n",
    "\n",
    "# Assume that you've already reset the sensor and read calibration coefficients.\n",
    "# the following coefficients from the datasheet's PROM (values are typical): range(0,65535)\n",
    "C1 = 40127  \n",
    "C2 = 36924\n",
    "C3 = 23317\n",
    "C4 = 23282\n",
    "C5 = 33464\n",
    "C6 = 28312\n",
    "\n",
    "\n",
    "#C1 = 34982   \n",
    "# #  C1 = Pressure sensitivity\n",
    "# C2 = 36352\n",
    "# #  C2 = Pressure offset\n",
    "# C3 = 20328 \n",
    "# #  C3 = Temperature coefficient of pressure sensitivity\n",
    "# C4 = 22354  \n",
    "# #  C4 = Temperature coefficient of pressure offset\n",
    "# C5 = 26646  \n",
    "# #  C5 = Reference temperature\n",
    "# C6 = 26146  \n",
    "# #  C6 = Temperature coefficient of the temperature.\n",
    "\n",
    "\n",
    "# --- Get Raw Pressure (D1) ---\n",
    "# Send the command for pressure conversion.\n",
    "# 0x48 corresponds to Convert D1 with OSR=4096.\n",
    "print(\"Starting pressure conversion...\")\n",
    "i2c.writeto(sensor_address, bytes([0x48])) \n",
    "# Wait the required conversion time (about 10-20ms for OSR=4096; adjust as needed)\n",
    "time.sleep(0.02)\n",
    "\n",
    "# Request the ADC result by sending the ADC read command (0x00)\n",
    "i2c.writeto(sensor_address, bytes([0x00]))\n",
    "# Read 3 bytes from the sensor.\n",
    "raw_pressure_bytes = bytearray(3)\n",
    "i2c.readfrom_into(sensor_address, raw_pressure_bytes)\n",
    "# Combine 3 bytes into a 24-bit number.\n",
    "D1 = (raw_pressure_bytes[0] << 16) | (raw_pressure_bytes[1] << 8) | raw_pressure_bytes[2]\n",
    "print(\"Raw pressure (D1):\", D1)\n",
    "\n",
    "# --- Get Raw Temperature (D2) ---\n",
    "# Send the command for temperature conversion.\n",
    "# 0x58 corresponds to Convert D2 with OSR=4096.\n",
    "print(\"Starting temperature conversion...\")\n",
    "i2c.writeto(sensor_address, bytes([0x58]))\n",
    "# Wait the required conversion time (again, adjust delay as recommended in the datasheet)\n",
    "time.sleep(0.02)\n",
    "\n",
    "# Request the ADC result with 0x00 command.\n",
    "i2c.writeto(sensor_address, bytes([0x00]))\n",
    "raw_temp_bytes = bytearray(3)\n",
    "i2c.readfrom_into(sensor_address, raw_temp_bytes)\n",
    "D2 = (raw_temp_bytes[0] << 16) | (raw_temp_bytes[1] << 8) | raw_temp_bytes[2]\n",
    "print(\"Raw temperature (D2):\", D2)\n",
    "\n",
    "# --- Calculation of Actual Temperature and Pressure ---\n",
    "#\n",
    "# The formulas taken from the MS5837 datasheet are typically:\n",
    "#\n",
    "#   dT    = D2 - C5 * 2^8\n",
    "#   TEMP  = 2000 + dT * C6 / 2^23\n",
    "#\n",
    "#   OFF   = C2 * 2^16 + (C4 * dT) / 2^7\n",
    "#   SENS  = C1 * 2^15 + (C3 * dT) / 2^8\n",
    "#\n",
    "#   Pressure = (D1 * SENS / 2^21 - OFF) / 2^15\n",
    "#\n",
    "dT = D2 - (C5 * 256)\n",
    "TEMP = 2000 + (dT * C6) / 8388608.0   # 2^23 = 8388608\n",
    "OFF = C2 * 65536 + (C4 * dT) / 128.0     # 2^16 = 65536, 2^7 = 128\n",
    "SENS = C1 * 32768 + (C3 * dT) / 256.0    # 2^15 = 32768, 2^8 = 256\n",
    "pressure = ((D1 * SENS) / 2097152.0 - OFF) / 32768.0   # 2^21 = 2097152, 2^15 = 32768\n",
    "\n",
    "# The computed temperature is typically in hundredths of degrees C\n",
    "print(\"Calculated temperature: {:.2f} °C\".format(TEMP / 100.0))\n",
    "# And pressure might be in hundredths of mbar (or hPa)\n",
    "print(\"Calculated pressure: {:.2f} mbar\".format(pressure / 100.0))\n",
    "\n",
    "i2c.unlock()\n"
   ]
  },
  {
   "cell_type": "code",
   "execution_count": 16,
   "metadata": {},
   "outputs": [
    {
     "ename": "AttributeError",
     "evalue": "module 'ms5837_app' has no attribute 'main'",
     "output_type": "error",
     "traceback": [
      "\u001b[31m---------------------------------------------------------------------------\u001b[39m",
      "\u001b[31mAttributeError\u001b[39m                            Traceback (most recent call last)",
      "\u001b[36mCell\u001b[39m\u001b[36m \u001b[39m\u001b[32mIn[16]\u001b[39m\u001b[32m, line 2\u001b[39m\n\u001b[32m      1\u001b[39m \u001b[38;5;28;01mimport\u001b[39;00m\u001b[38;5;250m \u001b[39m\u001b[34;01mms5837_app\u001b[39;00m\n\u001b[32m----> \u001b[39m\u001b[32m2\u001b[39m \u001b[43mms5837_app\u001b[49m\u001b[43m.\u001b[49m\u001b[43mmain\u001b[49m()\n",
      "\u001b[31mAttributeError\u001b[39m: module 'ms5837_app' has no attribute 'main'"
     ]
    }
   ],
   "source": [
    "import ms5837_app\n",
    "ms5837_app.main()"
   ]
  }
 ],
 "metadata": {
  "kernelspec": {
   "display_name": "flaresim",
   "language": "python",
   "name": "python3"
  },
  "language_info": {
   "codemirror_mode": {
    "name": "ipython",
    "version": 3
   },
   "file_extension": ".py",
   "mimetype": "text/x-python",
   "name": "python",
   "nbconvert_exporter": "python",
   "pygments_lexer": "ipython3",
   "version": "3.11.11"
  }
 },
 "nbformat": 4,
 "nbformat_minor": 2
}
