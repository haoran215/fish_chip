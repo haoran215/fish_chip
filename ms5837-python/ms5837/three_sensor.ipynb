{
 "cells": [
  {
   "cell_type": "code",
   "execution_count": 1,
   "id": "9be2fa99",
   "metadata": {},
   "outputs": [
    {
     "data": {
      "text/plain": [
       "'1'"
      ]
     },
     "execution_count": 1,
     "metadata": {},
     "output_type": "execute_result"
    }
   ],
   "source": [
    "import os\n",
    "import time\n",
    "os.environ[\"BLINKA_FT232H\"]"
   ]
  },
  {
   "cell_type": "code",
   "execution_count": 8,
   "id": "0cdfb540",
   "metadata": {},
   "outputs": [
    {
     "name": "stdout",
     "output_type": "stream",
     "text": [
      "(UsbDeviceDescriptor(vid=1027, pid=24596, bus=5, address=39, sn='01', index=None, description='USB <-> Serial Converter'), 1)\n",
      "(UsbDeviceDescriptor(vid=1027, pid=24596, bus=5, address=42, sn='03', index=None, description='USB <-> Serial Converter'), 1)\n"
     ]
    }
   ],
   "source": [
    "from pyftdi.usbtools import UsbTools\n",
    "FT232H_list = UsbTools.find_all([(0x403, 0x6014)])\n",
    "print(FT232H_list[0])\n",
    "print(FT232H_list[1])"
   ]
  },
  {
   "cell_type": "code",
   "execution_count": 9,
   "id": "c8cca945",
   "metadata": {},
   "outputs": [
    {
     "name": "stdout",
     "output_type": "stream",
     "text": [
      "Detected devices: [(UsbDeviceDescriptor(vid=1027, pid=24596, bus=5, address=39, sn='01', index=None, description='USB <-> Serial Converter'), 1), (UsbDeviceDescriptor(vid=1027, pid=24596, bus=5, address=42, sn='03', index=None, description='USB <-> Serial Converter'), 1), (UsbDeviceDescriptor(vid=1027, pid=24596, bus=3, address=10, sn='02', index=None, description='USB <-> Serial Converter'), 1)]\n",
      "Available interfaces:\n",
      "  ftdi://ftdi:232h:02/1  (USB <-> Serial Converter)\n",
      "  ftdi://ftdi:232h:01/1  (USB <-> Serial Converter)\n",
      "  ftdi://ftdi:232h:03/1  (USB <-> Serial Converter)\n",
      "\n"
     ]
    },
    {
     "ename": "SystemExit",
     "evalue": "Please specify the USB device",
     "output_type": "error",
     "traceback": [
      "An exception has occurred, use %tb to see the full traceback.\n",
      "\u001b[31mSystemExit\u001b[39m\u001b[31m:\u001b[39m Please specify the USB device\n"
     ]
    },
    {
     "name": "stderr",
     "output_type": "stream",
     "text": [
      "/home/haoran/anaconda3/envs/flaresim/lib/python3.11/site-packages/IPython/core/interactiveshell.py:3675: UserWarning: To exit: use 'exit', 'quit', or Ctrl-D.\n",
      "  warn(\"To exit: use 'exit', 'quit', or Ctrl-D.\", stacklevel=1)\n"
     ]
    }
   ],
   "source": [
    "from pyftdi.ftdi import Ftdi\n",
    "devices = Ftdi.list_devices()\n",
    "print(\"Detected devices:\", devices)\n",
    "\n",
    "Ftdi().open_from_url('ftdi:///?')\n"
   ]
  },
  {
   "cell_type": "code",
   "execution_count": 5,
   "id": "8d100e46",
   "metadata": {},
   "outputs": [
    {
     "name": "stdout",
     "output_type": "stream",
     "text": [
      "Available interfaces:\n",
      "  ftdi://ftdi:232h:02/1  (USB <-> Serial Converter)\n",
      "  ftdi://ftdi:232h:01/1  (USB <-> Serial Converter)\n",
      "  ftdi://ftdi:232h:03/1  (USB <-> Serial Converter)\n",
      "\n"
     ]
    },
    {
     "ename": "SystemExit",
     "evalue": "Please specify the USB device",
     "output_type": "error",
     "traceback": [
      "An exception has occurred, use %tb to see the full traceback.\n",
      "\u001b[31mSystemExit\u001b[39m\u001b[31m:\u001b[39m Please specify the USB device\n"
     ]
    },
    {
     "name": "stderr",
     "output_type": "stream",
     "text": [
      "/home/haoran/anaconda3/envs/flaresim/lib/python3.11/site-packages/IPython/core/interactiveshell.py:3675: UserWarning: To exit: use 'exit', 'quit', or Ctrl-D.\n",
      "  warn(\"To exit: use 'exit', 'quit', or Ctrl-D.\", stacklevel=1)\n"
     ]
    }
   ],
   "source": [
    "from pyftdi.i2c import I2cController\n",
    "\n",
    "i2c_test = I2cController()\n",
    "try:\n",
    "    i2c_test.configure('ftdi:///?')\n",
    "    print(\"Device with serial '02' configured successfully!\")\n",
    "except Exception as e:\n",
    "    print(\"Error configuring device '02':\", e)"
   ]
  },
  {
   "cell_type": "code",
   "execution_count": 6,
   "id": "646d829a",
   "metadata": {},
   "outputs": [
    {
     "name": "stdout",
     "output_type": "stream",
     "text": [
      "Error configuring device '01': UsbError: [Errno 16] Resource busy\n"
     ]
    }
   ],
   "source": [
    "from pyftdi.i2c import I2cController\n",
    "\n",
    "i2c_test = I2cController()\n",
    "try:\n",
    "    i2c_test.configure('ftdi://ftdi:232h:01/1')\n",
    "    print(\"Device with serial '02' configured successfully!\")\n",
    "except Exception as e:\n",
    "    print(\"Error configuring device '01':\", e)\n"
   ]
  },
  {
   "cell_type": "code",
   "execution_count": 20,
   "id": "822f9d63",
   "metadata": {},
   "outputs": [
    {
     "ename": "USBError",
     "evalue": "[Errno 19] No such device (it may have been disconnected)",
     "output_type": "error",
     "traceback": [
      "\u001b[31m---------------------------------------------------------------------------\u001b[39m",
      "\u001b[31mUSBError\u001b[39m                                  Traceback (most recent call last)",
      "\u001b[36mCell\u001b[39m\u001b[36m \u001b[39m\u001b[32mIn[20]\u001b[39m\u001b[32m, line 5\u001b[39m\n\u001b[32m      2\u001b[39m \u001b[38;5;28;01mfrom\u001b[39;00m\u001b[38;5;250m \u001b[39m\u001b[34;01mpyftdi\u001b[39;00m\u001b[34;01m.\u001b[39;00m\u001b[34;01mftdi\u001b[39;00m\u001b[38;5;250m \u001b[39m\u001b[38;5;28;01mimport\u001b[39;00m Ftdi\n\u001b[32m      4\u001b[39m \u001b[38;5;66;03m# Verify available devices – check that the device with serial \"02\" appears.\u001b[39;00m\n\u001b[32m----> \u001b[39m\u001b[32m5\u001b[39m devices = \u001b[43mFtdi\u001b[49m\u001b[43m.\u001b[49m\u001b[43mlist_devices\u001b[49m\u001b[43m(\u001b[49m\u001b[43m)\u001b[49m\n\u001b[32m      6\u001b[39m \u001b[38;5;28mprint\u001b[39m(\u001b[33m\"\u001b[39m\u001b[33mDetected FTDI devices:\u001b[39m\u001b[33m\"\u001b[39m, devices)\n\u001b[32m      8\u001b[39m \u001b[38;5;66;03m# Create separate I2C controller instances for each device.\u001b[39;00m\n",
      "\u001b[36mFile \u001b[39m\u001b[32m~/anaconda3/envs/flaresim/lib/python3.11/site-packages/pyftdi/ftdi.py:365\u001b[39m, in \u001b[36mFtdi.list_devices\u001b[39m\u001b[34m(cls, url)\u001b[39m\n\u001b[32m    357\u001b[39m \u001b[38;5;129m@classmethod\u001b[39m\n\u001b[32m    358\u001b[39m \u001b[38;5;28;01mdef\u001b[39;00m\u001b[38;5;250m \u001b[39m\u001b[34mlist_devices\u001b[39m(\u001b[38;5;28mcls\u001b[39m, url: Optional[\u001b[38;5;28mstr\u001b[39m] = \u001b[38;5;28;01mNone\u001b[39;00m) -> \\\n\u001b[32m    359\u001b[39m         List[Tuple[UsbDeviceDescriptor, \u001b[38;5;28mint\u001b[39m]]:\n\u001b[32m    360\u001b[39m \u001b[38;5;250m    \u001b[39m\u001b[33;03m\"\"\"List of URLs of connected FTDI devices.\u001b[39;00m\n\u001b[32m    361\u001b[39m \n\u001b[32m    362\u001b[39m \u001b[33;03m       :param url: a pattern URL to restrict the search\u001b[39;00m\n\u001b[32m    363\u001b[39m \u001b[33;03m       :return: list of (UsbDeviceDescriptor, interface)\u001b[39;00m\n\u001b[32m    364\u001b[39m \u001b[33;03m    \"\"\"\u001b[39;00m\n\u001b[32m--> \u001b[39m\u001b[32m365\u001b[39m     \u001b[38;5;28;01mreturn\u001b[39;00m \u001b[43mUsbTools\u001b[49m\u001b[43m.\u001b[49m\u001b[43mlist_devices\u001b[49m\u001b[43m(\u001b[49m\u001b[43murl\u001b[49m\u001b[43m \u001b[49m\u001b[38;5;129;43;01mor\u001b[39;49;00m\u001b[43m \u001b[49m\u001b[33;43m'\u001b[39;49m\u001b[33;43mftdi:///?\u001b[39;49m\u001b[33;43m'\u001b[39;49m\u001b[43m,\u001b[49m\n\u001b[32m    366\u001b[39m \u001b[43m                                 \u001b[49m\u001b[38;5;28;43mcls\u001b[39;49m\u001b[43m.\u001b[49m\u001b[43mVENDOR_IDS\u001b[49m\u001b[43m,\u001b[49m\u001b[43m \u001b[49m\u001b[38;5;28;43mcls\u001b[39;49m\u001b[43m.\u001b[49m\u001b[43mPRODUCT_IDS\u001b[49m\u001b[43m,\u001b[49m\n\u001b[32m    367\u001b[39m \u001b[43m                                 \u001b[49m\u001b[38;5;28;43mcls\u001b[39;49m\u001b[43m.\u001b[49m\u001b[43mDEFAULT_VENDOR\u001b[49m\u001b[43m)\u001b[49m\n",
      "\u001b[36mFile \u001b[39m\u001b[32m~/anaconda3/envs/flaresim/lib/python3.11/site-packages/pyftdi/usbtools.py:261\u001b[39m, in \u001b[36mUsbTools.list_devices\u001b[39m\u001b[34m(cls, urlstr, vdict, pdict, default_vendor)\u001b[39m\n\u001b[32m    259\u001b[39m \u001b[38;5;28;01mif\u001b[39;00m \u001b[38;5;129;01mnot\u001b[39;00m urlparts.path:\n\u001b[32m    260\u001b[39m     \u001b[38;5;28;01mraise\u001b[39;00m UsbToolsError(\u001b[33m'\u001b[39m\u001b[33mURL string is missing device port\u001b[39m\u001b[33m'\u001b[39m)\n\u001b[32m--> \u001b[39m\u001b[32m261\u001b[39m candidates, _ = \u001b[38;5;28;43mcls\u001b[39;49m\u001b[43m.\u001b[49m\u001b[43menumerate_candidates\u001b[49m\u001b[43m(\u001b[49m\u001b[43murlparts\u001b[49m\u001b[43m,\u001b[49m\u001b[43m \u001b[49m\u001b[43mvdict\u001b[49m\u001b[43m,\u001b[49m\u001b[43m \u001b[49m\u001b[43mpdict\u001b[49m\u001b[43m,\u001b[49m\n\u001b[32m    262\u001b[39m \u001b[43m                                         \u001b[49m\u001b[43mdefault_vendor\u001b[49m\u001b[43m)\u001b[49m\n\u001b[32m    263\u001b[39m \u001b[38;5;28;01mreturn\u001b[39;00m candidates\n",
      "\u001b[36mFile \u001b[39m\u001b[32m~/anaconda3/envs/flaresim/lib/python3.11/site-packages/pyftdi/usbtools.py:405\u001b[39m, in \u001b[36mUsbTools.enumerate_candidates\u001b[39m\u001b[34m(cls, urlparts, vdict, pdict, default_vendor)\u001b[39m\n\u001b[32m    403\u001b[39m     \u001b[38;5;28;01mfor\u001b[39;00m pid \u001b[38;5;129;01min\u001b[39;00m products:\n\u001b[32m    404\u001b[39m         vps.add((vid, products[pid]))\n\u001b[32m--> \u001b[39m\u001b[32m405\u001b[39m devices = \u001b[38;5;28;43mcls\u001b[39;49m\u001b[43m.\u001b[49m\u001b[43mfind_all\u001b[49m\u001b[43m(\u001b[49m\u001b[43mvps\u001b[49m\u001b[43m)\u001b[49m\n\u001b[32m    406\u001b[39m \u001b[38;5;28;01mif\u001b[39;00m sernum:\n\u001b[32m    407\u001b[39m     \u001b[38;5;28;01mif\u001b[39;00m sernum \u001b[38;5;129;01mnot\u001b[39;00m \u001b[38;5;129;01min\u001b[39;00m [dev.sn \u001b[38;5;28;01mfor\u001b[39;00m dev, _ \u001b[38;5;129;01min\u001b[39;00m devices]:\n",
      "\u001b[36mFile \u001b[39m\u001b[32m~/anaconda3/envs/flaresim/lib/python3.11/site-packages/pyftdi/usbtools.py:98\u001b[39m, in \u001b[36mUsbTools.find_all\u001b[39m\u001b[34m(cls, vps, nocache)\u001b[39m\n\u001b[32m     96\u001b[39m ifcount = \u001b[38;5;28mmax\u001b[39m(cfg.bNumInterfaces \u001b[38;5;28;01mfor\u001b[39;00m cfg \u001b[38;5;129;01min\u001b[39;00m dev)\n\u001b[32m     97\u001b[39m \u001b[38;5;66;03m# TODO: handle / is serial number strings\u001b[39;00m\n\u001b[32m---> \u001b[39m\u001b[32m98\u001b[39m sernum = \u001b[43mUsbTools\u001b[49m\u001b[43m.\u001b[49m\u001b[43mget_string\u001b[49m\u001b[43m(\u001b[49m\u001b[43mdev\u001b[49m\u001b[43m,\u001b[49m\u001b[43m \u001b[49m\u001b[43mdev\u001b[49m\u001b[43m.\u001b[49m\u001b[43miSerialNumber\u001b[49m\u001b[43m)\u001b[49m\n\u001b[32m     99\u001b[39m description = UsbTools.get_string(dev, dev.iProduct)\n\u001b[32m    100\u001b[39m descriptor = UsbDeviceDescriptor(dev.idVendor, dev.idProduct,\n\u001b[32m    101\u001b[39m                                  dev.bus, dev.address,\n\u001b[32m    102\u001b[39m                                  sernum, \u001b[38;5;28;01mNone\u001b[39;00m, description)\n",
      "\u001b[36mFile \u001b[39m\u001b[32m~/anaconda3/envs/flaresim/lib/python3.11/site-packages/pyftdi/usbtools.py:544\u001b[39m, in \u001b[36mUsbTools.get_string\u001b[39m\u001b[34m(cls, device, stridx)\u001b[39m\n\u001b[32m    542\u001b[39m \u001b[38;5;28;01mtry\u001b[39;00m:\n\u001b[32m    543\u001b[39m     \u001b[38;5;28;01mif\u001b[39;00m \u001b[38;5;28mcls\u001b[39m.UsbApi == \u001b[32m2\u001b[39m:\n\u001b[32m--> \u001b[39m\u001b[32m544\u001b[39m         \u001b[38;5;28;01mreturn\u001b[39;00m \u001b[43musb_get_string\u001b[49m\u001b[43m(\u001b[49m\u001b[43mdevice\u001b[49m\u001b[43m,\u001b[49m\u001b[43m \u001b[49m\u001b[43mstridx\u001b[49m\u001b[43m)\u001b[49m\n\u001b[32m    545\u001b[39m     \u001b[38;5;28;01mreturn\u001b[39;00m usb_get_string(device, \u001b[32m64\u001b[39m, stridx)\n\u001b[32m    546\u001b[39m \u001b[38;5;28;01mexcept\u001b[39;00m \u001b[38;5;167;01mUnicodeDecodeError\u001b[39;00m:\n\u001b[32m    547\u001b[39m     \u001b[38;5;66;03m# do not abort if EEPROM data is somewhat incoherent\u001b[39;00m\n",
      "\u001b[36mFile \u001b[39m\u001b[32m~/anaconda3/envs/flaresim/lib/python3.11/site-packages/usb/util.py:313\u001b[39m, in \u001b[36mget_string\u001b[39m\u001b[34m(dev, index, langid)\u001b[39m\n\u001b[32m    309\u001b[39m         \u001b[38;5;28;01mraise\u001b[39;00m \u001b[38;5;167;01mValueError\u001b[39;00m(\u001b[33m\"\u001b[39m\u001b[33mThe device has no langid\u001b[39m\u001b[33m\"\u001b[39m\n\u001b[32m    310\u001b[39m                          \u001b[33m\"\u001b[39m\u001b[33m (permission issue, no string descriptors supported or device error)\u001b[39m\u001b[33m\"\u001b[39m)\n\u001b[32m    311\u001b[39m     langid = langids[\u001b[32m0\u001b[39m]\n\u001b[32m--> \u001b[39m\u001b[32m313\u001b[39m buf = \u001b[43mget_descriptor\u001b[49m\u001b[43m(\u001b[49m\n\u001b[32m    314\u001b[39m \u001b[43m            \u001b[49m\u001b[43mdev\u001b[49m\u001b[43m,\u001b[49m\n\u001b[32m    315\u001b[39m \u001b[43m            \u001b[49m\u001b[32;43m254\u001b[39;49m\u001b[43m,\u001b[49m\u001b[43m \u001b[49m\u001b[38;5;66;43;03m# maximum even length\u001b[39;49;00m\n\u001b[32m    316\u001b[39m \u001b[43m            \u001b[49m\u001b[43mDESC_TYPE_STRING\u001b[49m\u001b[43m,\u001b[49m\n\u001b[32m    317\u001b[39m \u001b[43m            \u001b[49m\u001b[43mindex\u001b[49m\u001b[43m,\u001b[49m\n\u001b[32m    318\u001b[39m \u001b[43m            \u001b[49m\u001b[43mlangid\u001b[49m\n\u001b[32m    319\u001b[39m \u001b[43m        \u001b[49m\u001b[43m)\u001b[49m\n\u001b[32m    320\u001b[39m blen = buf[\u001b[32m0\u001b[39m] & \u001b[32m0xfe\u001b[39m \u001b[38;5;66;03m# should be even, ignore any trailing byte (see #154)\u001b[39;00m\n\u001b[32m    321\u001b[39m \u001b[38;5;28;01mreturn\u001b[39;00m buf[\u001b[32m2\u001b[39m:blen].tobytes().decode(\u001b[33m'\u001b[39m\u001b[33mutf-16-le\u001b[39m\u001b[33m'\u001b[39m)\n",
      "\u001b[36mFile \u001b[39m\u001b[32m~/anaconda3/envs/flaresim/lib/python3.11/site-packages/usb/control.py:172\u001b[39m, in \u001b[36mget_descriptor\u001b[39m\u001b[34m(dev, desc_size, desc_type, desc_index, wIndex)\u001b[39m\n\u001b[32m    165\u001b[39m wValue = desc_index | (desc_type << \u001b[32m8\u001b[39m)\n\u001b[32m    167\u001b[39m bmRequestType = util.build_request_type(\n\u001b[32m    168\u001b[39m                     util.CTRL_IN,\n\u001b[32m    169\u001b[39m                     util.CTRL_TYPE_STANDARD,\n\u001b[32m    170\u001b[39m                     util.CTRL_RECIPIENT_DEVICE)\n\u001b[32m--> \u001b[39m\u001b[32m172\u001b[39m desc = \u001b[43mdev\u001b[49m\u001b[43m.\u001b[49m\u001b[43mctrl_transfer\u001b[49m\u001b[43m(\u001b[49m\n\u001b[32m    173\u001b[39m \u001b[43m        \u001b[49m\u001b[43mbmRequestType\u001b[49m\u001b[43m \u001b[49m\u001b[43m=\u001b[49m\u001b[43m \u001b[49m\u001b[43mbmRequestType\u001b[49m\u001b[43m,\u001b[49m\n\u001b[32m    174\u001b[39m \u001b[43m        \u001b[49m\u001b[43mbRequest\u001b[49m\u001b[43m \u001b[49m\u001b[43m=\u001b[49m\u001b[43m \u001b[49m\u001b[32;43m0x06\u001b[39;49m\u001b[43m,\u001b[49m\n\u001b[32m    175\u001b[39m \u001b[43m        \u001b[49m\u001b[43mwValue\u001b[49m\u001b[43m \u001b[49m\u001b[43m=\u001b[49m\u001b[43m \u001b[49m\u001b[43mwValue\u001b[49m\u001b[43m,\u001b[49m\n\u001b[32m    176\u001b[39m \u001b[43m        \u001b[49m\u001b[43mwIndex\u001b[49m\u001b[43m \u001b[49m\u001b[43m=\u001b[49m\u001b[43m \u001b[49m\u001b[43mwIndex\u001b[49m\u001b[43m,\u001b[49m\n\u001b[32m    177\u001b[39m \u001b[43m        \u001b[49m\u001b[43mdata_or_wLength\u001b[49m\u001b[43m \u001b[49m\u001b[43m=\u001b[49m\u001b[43m \u001b[49m\u001b[43mdesc_size\u001b[49m\u001b[43m)\u001b[49m\n\u001b[32m    179\u001b[39m \u001b[38;5;28;01mif\u001b[39;00m \u001b[38;5;28mlen\u001b[39m(desc) < \u001b[32m2\u001b[39m:\n\u001b[32m    180\u001b[39m     \u001b[38;5;28;01mraise\u001b[39;00m USBError(\u001b[33m'\u001b[39m\u001b[33mInvalid descriptor\u001b[39m\u001b[33m'\u001b[39m)\n",
      "\u001b[36mFile \u001b[39m\u001b[32m~/anaconda3/envs/flaresim/lib/python3.11/site-packages/usb/core.py:1093\u001b[39m, in \u001b[36mDevice.ctrl_transfer\u001b[39m\u001b[34m(self, bmRequestType, bRequest, wValue, wIndex, data_or_wLength, timeout)\u001b[39m\n\u001b[32m   1090\u001b[39m     interface_number = wIndex & \u001b[32m0xff\u001b[39m\n\u001b[32m   1091\u001b[39m     \u001b[38;5;28mself\u001b[39m._ctx.managed_claim_interface(\u001b[38;5;28mself\u001b[39m, interface_number)\n\u001b[32m-> \u001b[39m\u001b[32m1093\u001b[39m ret = \u001b[38;5;28;43mself\u001b[39;49m\u001b[43m.\u001b[49m\u001b[43m_ctx\u001b[49m\u001b[43m.\u001b[49m\u001b[43mbackend\u001b[49m\u001b[43m.\u001b[49m\u001b[43mctrl_transfer\u001b[49m\u001b[43m(\u001b[49m\n\u001b[32m   1094\u001b[39m \u001b[43m                            \u001b[49m\u001b[38;5;28;43mself\u001b[39;49m\u001b[43m.\u001b[49m\u001b[43m_ctx\u001b[49m\u001b[43m.\u001b[49m\u001b[43mhandle\u001b[49m\u001b[43m,\u001b[49m\n\u001b[32m   1095\u001b[39m \u001b[43m                            \u001b[49m\u001b[43mbmRequestType\u001b[49m\u001b[43m,\u001b[49m\n\u001b[32m   1096\u001b[39m \u001b[43m                            \u001b[49m\u001b[43mbRequest\u001b[49m\u001b[43m,\u001b[49m\n\u001b[32m   1097\u001b[39m \u001b[43m                            \u001b[49m\u001b[43mwValue\u001b[49m\u001b[43m,\u001b[49m\n\u001b[32m   1098\u001b[39m \u001b[43m                            \u001b[49m\u001b[43mwIndex\u001b[49m\u001b[43m,\u001b[49m\n\u001b[32m   1099\u001b[39m \u001b[43m                            \u001b[49m\u001b[43mbuff\u001b[49m\u001b[43m,\u001b[49m\n\u001b[32m   1100\u001b[39m \u001b[43m                            \u001b[49m\u001b[38;5;28;43mself\u001b[39;49m\u001b[43m.\u001b[49m\u001b[43m__get_timeout\u001b[49m\u001b[43m(\u001b[49m\u001b[43mtimeout\u001b[49m\u001b[43m)\u001b[49m\u001b[43m)\u001b[49m\n\u001b[32m   1102\u001b[39m \u001b[38;5;28;01mif\u001b[39;00m \u001b[38;5;28misinstance\u001b[39m(data_or_wLength, array.array) \\\n\u001b[32m   1103\u001b[39m         \u001b[38;5;129;01mor\u001b[39;00m util.ctrl_direction(bmRequestType) == util.CTRL_OUT:\n\u001b[32m   1104\u001b[39m     \u001b[38;5;28;01mreturn\u001b[39;00m ret\n",
      "\u001b[36mFile \u001b[39m\u001b[32m~/anaconda3/envs/flaresim/lib/python3.11/site-packages/usb/backend/libusb1.py:897\u001b[39m, in \u001b[36m_LibUSB.ctrl_transfer\u001b[39m\u001b[34m(self, dev_handle, bmRequestType, bRequest, wValue, wIndex, data, timeout)\u001b[39m\n\u001b[32m    894\u001b[39m addr, length = data.buffer_info()\n\u001b[32m    895\u001b[39m length *= data.itemsize\n\u001b[32m--> \u001b[39m\u001b[32m897\u001b[39m ret = \u001b[43m_check\u001b[49m\u001b[43m(\u001b[49m\u001b[38;5;28;43mself\u001b[39;49m\u001b[43m.\u001b[49m\u001b[43mlib\u001b[49m\u001b[43m.\u001b[49m\u001b[43mlibusb_control_transfer\u001b[49m\u001b[43m(\u001b[49m\n\u001b[32m    898\u001b[39m \u001b[43m                                \u001b[49m\u001b[43mdev_handle\u001b[49m\u001b[43m.\u001b[49m\u001b[43mhandle\u001b[49m\u001b[43m,\u001b[49m\n\u001b[32m    899\u001b[39m \u001b[43m                                \u001b[49m\u001b[43mbmRequestType\u001b[49m\u001b[43m,\u001b[49m\n\u001b[32m    900\u001b[39m \u001b[43m                                \u001b[49m\u001b[43mbRequest\u001b[49m\u001b[43m,\u001b[49m\n\u001b[32m    901\u001b[39m \u001b[43m                                \u001b[49m\u001b[43mwValue\u001b[49m\u001b[43m,\u001b[49m\n\u001b[32m    902\u001b[39m \u001b[43m                                \u001b[49m\u001b[43mwIndex\u001b[49m\u001b[43m,\u001b[49m\n\u001b[32m    903\u001b[39m \u001b[43m                                \u001b[49m\u001b[43mcast\u001b[49m\u001b[43m(\u001b[49m\u001b[43maddr\u001b[49m\u001b[43m,\u001b[49m\u001b[43m \u001b[49m\u001b[43mPOINTER\u001b[49m\u001b[43m(\u001b[49m\u001b[43mc_ubyte\u001b[49m\u001b[43m)\u001b[49m\u001b[43m)\u001b[49m\u001b[43m,\u001b[49m\n\u001b[32m    904\u001b[39m \u001b[43m                                \u001b[49m\u001b[43mlength\u001b[49m\u001b[43m,\u001b[49m\n\u001b[32m    905\u001b[39m \u001b[43m                                \u001b[49m\u001b[43mtimeout\u001b[49m\u001b[43m)\u001b[49m\u001b[43m)\u001b[49m\n\u001b[32m    907\u001b[39m \u001b[38;5;28;01mreturn\u001b[39;00m ret\n",
      "\u001b[36mFile \u001b[39m\u001b[32m~/anaconda3/envs/flaresim/lib/python3.11/site-packages/usb/backend/libusb1.py:604\u001b[39m, in \u001b[36m_check\u001b[39m\u001b[34m(ret)\u001b[39m\n\u001b[32m    602\u001b[39m         \u001b[38;5;28;01mraise\u001b[39;00m USBTimeoutError(_strerror(ret), ret, _libusb_errno[ret])\n\u001b[32m    603\u001b[39m     \u001b[38;5;28;01melse\u001b[39;00m:\n\u001b[32m--> \u001b[39m\u001b[32m604\u001b[39m         \u001b[38;5;28;01mraise\u001b[39;00m USBError(_strerror(ret), ret, _libusb_errno[ret])\n\u001b[32m    606\u001b[39m \u001b[38;5;28;01mreturn\u001b[39;00m ret\n",
      "\u001b[31mUSBError\u001b[39m: [Errno 19] No such device (it may have been disconnected)"
     ]
    }
   ],
   "source": [
    "from pyftdi.i2c import I2cController\n",
    "from pyftdi.ftdi import Ftdi\n",
    "\n",
    "# Verify available devices – check that the device with serial \"02\" appears.\n",
    "devices = Ftdi.list_devices()\n",
    "print(\"Detected FTDI devices:\", devices)\n",
    "\n",
    "# Create separate I2C controller instances for each device.\n",
    "i2c1 = I2cController()\n",
    "i2c2 = I2cController()\n",
    "i2c3 = I2cController()\n",
    "\n",
    "# Configure the controllers using the explicitly set URLs:\n",
    "# Device with serial '01'\n",
    "i2c1.configure('ftdi://ftdi:232h:01/1')\n",
    "# Device with serial '02'\n",
    "i2c2.configure('ftdi://ftdi:232h:02/1')\n",
    "# Device with serial '03'\n",
    "i2c3.configure('ftdi://ftdi:232h:03/1')\n",
    "\n",
    "# Retrieve I2C ports (example: sensor at 0x76 on each device)\n",
    "port1 = i2c1.get_port(0x76)\n",
    "port2 = i2c2.get_port(0x76)\n",
    "port3 = i2c3.get_port(0x76)\n"
   ]
  }
 ],
 "metadata": {
  "kernelspec": {
   "display_name": "flaresim",
   "language": "python",
   "name": "python3"
  },
  "language_info": {
   "codemirror_mode": {
    "name": "ipython",
    "version": 3
   },
   "file_extension": ".py",
   "mimetype": "text/x-python",
   "name": "python",
   "nbconvert_exporter": "python",
   "pygments_lexer": "ipython3",
   "version": "3.11.11"
  }
 },
 "nbformat": 4,
 "nbformat_minor": 5
}
